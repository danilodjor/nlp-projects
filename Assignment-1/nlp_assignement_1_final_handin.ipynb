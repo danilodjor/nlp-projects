{
  "nbformat": 4,
  "nbformat_minor": 0,
  "metadata": {
    "colab": {
      "provenance": []
    },
    "kernelspec": {
      "name": "python3",
      "display_name": "Python 3"
    },
    "language_info": {
      "name": "python"
    }
  },
  "cells": [
    {
      "cell_type": "markdown",
      "source": [
        "# Assignment 1 – Backprop"
      ],
      "metadata": {
        "id": "Kf49KbBpaJsu"
      }
    },
    {
      "cell_type": "code",
      "source": [
        "#@title Library Imports [do not change]\n",
        "\n",
        "import importlib \n",
        "!git clone https://www.github.com/rycolab/intro-nlp-f22.git\n",
        "utils = importlib.import_module(\"intro-nlp-f22.assignment_1.utils\")\n",
        "\n",
        "import re\n",
        "import random\n",
        "from collections import defaultdict\n",
        "import itertools\n",
        "from abc import ABC, abstractmethod\n",
        "import math"
      ],
      "metadata": {
        "colab": {
          "base_uri": "https://localhost:8080/"
        },
        "id": "wAhpRJSCgCh4",
        "outputId": "9daad118-2f53-47b3-ae1c-7a79c8ad9247",
        "cellView": "form"
      },
      "execution_count": null,
      "outputs": [
        {
          "output_type": "stream",
          "name": "stdout",
          "text": [
            "Cloning into 'intro-nlp-f22'...\n",
            "warning: redirecting to https://github.com/rycolab/intro-nlp-f22.git/\n",
            "remote: Enumerating objects: 32, done.\u001b[K\n",
            "remote: Counting objects: 100% (32/32), done.\u001b[K\n",
            "remote: Compressing objects: 100% (23/23), done.\u001b[K\n",
            "remote: Total 32 (delta 6), reused 30 (delta 4), pack-reused 0\u001b[K\n",
            "Unpacking objects: 100% (32/32), done.\n"
          ]
        }
      ]
    },
    {
      "cell_type": "code",
      "source": [
        "#@title Select and Parse Math Problems [do not change]\n",
        "\n",
        "#@markdown select math problem\n",
        "\n",
        "math_problem_i = \"2\" #@param [0,1,2,3]\n",
        "math_problem = utils.MATH_PROBLEMS[int(math_problem_i)]\n",
        "print(math_problem)\n",
        "\n",
        "parser = utils.Parser()\n",
        "infix, in_vars = parser.parse(math_problem[\"problem\"], in_vars = math_problem[\"in_vars\"])\n",
        "print(infix, in_vars)"
      ],
      "metadata": {
        "colab": {
          "base_uri": "https://localhost:8080/"
        },
        "id": "awwwql_ii0y0",
        "outputId": "5c15f6de-8f9a-4977-b7f1-7b302a4596c7"
      },
      "execution_count": null,
      "outputs": [
        {
          "output_type": "stream",
          "name": "stdout",
          "text": [
            "{'problem': '(x^2 - 1) * (y+2)', 'in_vars': {'x': 3.0, 'y': 2.0}, 'output': 32.0, 'derivative': {'x': 24.0, 'y': 8.0}}\n",
            "[[['x', '^', 2], '-', 1], '*', ['y', '+', 2]] {'x': 3.0, 'y': 2.0}\n"
          ]
        }
      ]
    },
    {
      "cell_type": "code",
      "source": [
        "#@title ToDo1: Building\n",
        "# import copy\n",
        "class Builder():\n",
        "    \n",
        "    def __init__(self, infix: list, in_vars: dict = {}):\n",
        "        \"\"\"\n",
        "        infix: list of infix notation parse, e.g. [['exp', 2], '-', 3]\n",
        "        in_vars: dict of input variables to ensure they are not used as intermediate or output variables\n",
        "        RETURN: computation graph in a data structure of your choosing\n",
        "        \"\"\"\n",
        "\n",
        "        ## some alphabetical vars to use as intermediate and output variables minus the input vars to avoid duplicates\n",
        "        avail_vars = list(map(chr, range(97, 123))) + list(map(chr, range(945, 969)))\n",
        "        if len(in_vars.keys()) > 0:\n",
        "            avail_vars = set(avail_vars) - set(in_vars)\n",
        "        self.avail_vars = sorted(list(set(avail_vars)), reverse=True)\n",
        "\n",
        "        # self.infix = copy.deepcopy(infix)\n",
        "        self.infix = infix\n",
        "        self.graph = {}\n",
        "        ## ToDO: implement and set self.graph\n",
        "        self.graph = self.fun(infix = [self.infix], graph = self.graph, available_vars=self.avail_vars, level=0, in_vars=in_vars)\n",
        "        self.parse_graph(self.graph)\n",
        "\n",
        "    def fun(self, infix, graph, available_vars, level = 0, in_vars = None):\n",
        "      # First time, graph is made up of only input variables and their values\n",
        "      if level == 0:\n",
        "          graph = {}\n",
        "          for var in in_vars.keys():\n",
        "              graph[var] = in_vars[var]\n",
        "\n",
        "      # Recursive calls:\n",
        "      for i, item in enumerate(infix):\n",
        "          if type(item) is list:\n",
        "              self.fun(item, graph, available_vars, level+1)\n",
        "              var = available_vars.pop()\n",
        "              graph[var] = item\n",
        "              infix[i] = var\n",
        "\n",
        "      # Return only when finished iterating over the outermost list\n",
        "      if level == 0:\n",
        "          return graph\n",
        "\n",
        "    def parse(self, expression):\n",
        "      if type(expression) == list and len(expression) == 2:\n",
        "          return {'operands': [expression[1]], 'function': expression[0], 'value': None, 'backwards': 0}\n",
        "      elif type(expression) == list and len(expression) == 3:\n",
        "          return {'operands': [expression[0], expression[2]], 'function': expression[1], 'value': None, 'backwards': 0}\n",
        "      elif type(expression) == int or type(expression) == float:\n",
        "          return {'operands': None, 'function': None, 'value': expression, 'backwards': 0}\n",
        "\n",
        "    def parse_graph(self, graph):\n",
        "      for key in graph.keys():\n",
        "          # print(key, graph[key])\n",
        "          graph[key] = self.parse(graph[key])\n",
        "\n",
        "if __name__ == '__main__':\n",
        "\n",
        "    g = Builder(infix, in_vars)\n",
        "    print(g.graph)"
      ],
      "metadata": {
        "colab": {
          "base_uri": "https://localhost:8080/"
        },
        "id": "gEY0OEr4X2sO",
        "outputId": "bc991ea6-36c7-4ef6-a7c0-65935f1461f4"
      },
      "execution_count": null,
      "outputs": [
        {
          "output_type": "stream",
          "name": "stdout",
          "text": [
            "{'x': {'operands': None, 'function': None, 'value': 3.0, 'backwards': 0}, 'y': {'operands': None, 'function': None, 'value': 2.0, 'backwards': 0}, 'a': {'operands': ['x', 2], 'function': '^', 'value': None, 'backwards': 0}, 'b': {'operands': ['a', 1], 'function': '-', 'value': None, 'backwards': 0}, 'c': {'operands': ['y', 2], 'function': '+', 'value': None, 'backwards': 0}, 'd': {'operands': ['b', 'c'], 'function': '*', 'value': None, 'backwards': 0}}\n"
          ]
        }
      ]
    },
    {
      "cell_type": "code",
      "source": [
        "#@title ToDo2: Operations\n",
        "\n",
        "class Operator(ABC):\n",
        "\n",
        "    @abstractmethod\n",
        "    def f(self, a, b = None) -> float:\n",
        "        raise NotImplementedError()\n",
        "        return f_res\n",
        "\n",
        "    @abstractmethod\n",
        "    def df(self, a, b = None) -> list:\n",
        "        raise NotImplementedError()\n",
        "        return [df_res]\n",
        "\n",
        "class Exp(Operator):\n",
        "\n",
        "    def f(self, a, b = None):\n",
        "        return math.exp(a)\n",
        "\n",
        "    def df(self, a, b = None):\n",
        "        return [math.exp(a)]\n",
        "\n",
        "class Log(Operator):\n",
        "    ## natural logarithm\n",
        "\n",
        "    def f(self, a, b = None):\n",
        "        ## ToDO: implement\n",
        "        return math.log(a)\n",
        "\n",
        "    def df(self, a, b = None):\n",
        "        ## ToDO: implement\n",
        "        return [1/a]\n",
        "\n",
        "class Mult(Operator):\n",
        "\n",
        "    def f(self, a, b):\n",
        "        return a * b\n",
        "\n",
        "    def df(self, a, b=None):\n",
        "        return [b, a]\n",
        "\n",
        "class Div(Operator):\n",
        "\n",
        "    def f(self, a, b):\n",
        "        ## ToDO: implement\n",
        "        return a/b\n",
        "\n",
        "    def df(self, a, b):\n",
        "        ## ToDO: implement\n",
        "        return [1/b, -a/(b*b)]\n",
        "\n",
        "class Add(Operator):\n",
        "\n",
        "    def f(self, a, b):\n",
        "        ## ToDO: implement\n",
        "        return a+b\n",
        "\n",
        "    def df(self, a, b = None):\n",
        "        ## ToDO: implement\n",
        "        return [1,1]\n",
        "\n",
        "class Sub(Operator):\n",
        "\n",
        "    def f(self, a, b = None):\n",
        "        ## ToDO: implement\n",
        "        return a-b\n",
        "\n",
        "    def df(self, a, b = None):\n",
        "        ## ToDO: implement\n",
        "        return [1, -1]\n",
        "\n",
        "class Pow(Operator):\n",
        "\n",
        "    def f(self, a, b):\n",
        "        return a**b\n",
        "\n",
        "    def df(self, a, b):\n",
        "        if a <= 0: ## work-around: treat as unary operation if -a^b\n",
        "            return [b * (a ** (b - 1))]\n",
        "        else:\n",
        "            return [b * (a ** (b - 1)), (a ** b) * math.log(a)]\n",
        "\n",
        "class Sin(Operator):\n",
        "\n",
        "    def f(self, a, b=None):\n",
        "        ## ToDO: implement\n",
        "        return math.sin(a)\n",
        "\n",
        "    def df(self, a, b=None):\n",
        "        ## ToDO: implement\n",
        "        return [math.cos(a)]\n",
        "\n",
        "class Cos(Operator):\n",
        "\n",
        "    def f(self, a, b=None):\n",
        "        ## ToDO: implement\n",
        "        return math.cos(a)\n",
        "\n",
        "    def df(self, a, b=None):\n",
        "        ## ToDO: implement\n",
        "        return [-math.sin(a)]"
      ],
      "metadata": {
        "cellView": "form",
        "id": "FqYDZ0rvZQVr"
      },
      "execution_count": null,
      "outputs": []
    },
    {
      "cell_type": "code",
      "source": [
        "#@title ToDo 3: Executing\n",
        "\n",
        "class Executor():\n",
        "\n",
        "    def __init__(self, graph: dict, in_vars: dict = {}):\n",
        "        \"\"\"\n",
        "        graph: computation graph in a data structure of your choosing\n",
        "        in_vars: dict of input variables, e.g. {\"x\": 2.0, \"y\": -1.0}\n",
        "        \"\"\"\n",
        "        self.graph = graph\n",
        "        self.in_vars = in_vars\n",
        "        self.fn_map = {\"log\": Log(), \"exp\": Exp(), \"+\": Add(), \"-\": Sub(), \"^\": Pow(), \"sin\": Sin(), \"cos\": Cos(), \"*\": Mult(), \"/\": Div()}\n",
        "        self.output = -1\n",
        "        self.derivative = {}\n",
        "\n",
        "    ## forward execution____________________________\n",
        "\n",
        "    def forward(self):\n",
        "        ## ToDO: implement and set self.output\n",
        "\n",
        "        # Go through variables in topological order\n",
        "        for key in self.graph.keys():\n",
        "\n",
        "            # If the variable isn't yet evaluated, evaluate it based on parent nodes\n",
        "            if self.graph[key]['value'] is None:\n",
        "\n",
        "                # Each variable has parent nodes (operands), and the function to apply on the parent nodes (fun_to_use)\n",
        "                fun_to_use = self.graph[key]['function']\n",
        "                operands = self.graph[key]['operands'].copy()\n",
        "                \n",
        "                # Find the values of the parent nodes needed to compute the value of the current variable\n",
        "                num_operands = len(operands)\n",
        "                if num_operands == 1:\n",
        "                    if operands[0] in self.graph.keys():\n",
        "                        operands[0] = self.graph[operands[0]]['value']\n",
        "                elif num_operands == 2:\n",
        "                    if operands[0] in self.graph.keys():\n",
        "                        operands[0] = self.graph[operands[0]]['value']\n",
        "                    if operands[1] in self.graph.keys():\n",
        "                        operands[1] = self.graph[operands[1]]['value']\n",
        "\n",
        "                computed_val = self.fn_map[fun_to_use].f(*operands)\n",
        "\n",
        "                self.graph[key]['value'] = computed_val\n",
        "      \n",
        "        self.output = self.graph[list(self.graph.keys())[-1]]['value']\n",
        "\n",
        "    ## backward execution____________________________\n",
        "\n",
        "    def backward(self):\n",
        "        ## ToDO: implement and set self.derivative\n",
        "        self.derivative = {}\n",
        "        \n",
        "        # Go through all nodes and set all  backwards values to 0\n",
        "        for key in self.graph.keys():\n",
        "          self.graph[key]['backwards'] = 0\n",
        "\n",
        "        # 1. Go through nodes in reverse topological order (starting from the back). Last variable has backwards value = 1.\n",
        "        # 2. For all children of the current node, find calculate the product of the corresponding gradient multiplied by the current node value\n",
        "        # 3. Add the value to the children node backwards_value\n",
        "        # (No need for recursion - just do it iteratively)\n",
        "\n",
        "        output_flag = 0\n",
        "\n",
        "        for key in reversed(list(self.graph.keys())):\n",
        "            # print('Current key: ', key)\n",
        "\n",
        "            # Set the derivative of output wrt itself to 1 (backwards value)\n",
        "            if not output_flag:\n",
        "                self.graph[key]['backwards'] = 1\n",
        "                output_flag = 1\n",
        "\n",
        "            # Calculate the gradient of current node wrt its parent nodes\n",
        "            fun_to_use = self.graph[key]['function']\n",
        "\n",
        "            parent_values = []\n",
        "\n",
        "            operands = self.graph[key]['operands']\n",
        "            if operands is not None:\n",
        "              for operand in operands:\n",
        "                if type(operand) is str:\n",
        "                  parent_values.append(self.graph[operand]['value'])\n",
        "                elif operand is not None:\n",
        "                  parent_values.append(operand)\n",
        "\n",
        "            # print('Operands: ', operands)\n",
        "            # print('Values of operands: ', parent_values)\n",
        "            # print('Function to use: ', fun_to_use)\n",
        "            \n",
        "            if fun_to_use is not None:\n",
        "              gradient = self.fn_map[fun_to_use].df(*parent_values)\n",
        "\n",
        "            # print('Gradients: ', gradient)\n",
        "\n",
        "            # Do the rest of the variables\n",
        "            if self.graph[key]['operands'] is not None:\n",
        "                for i, parent in enumerate(self.graph[key]['operands']):\n",
        "                  if (parent is not None) and (type(parent) is str):  \n",
        "                    self.graph[parent]['backwards'] += self.graph[key]['backwards']*gradient[i]\n",
        "\n",
        "            # print('Backwards value: ', self.graph[key]['backwards'])\n",
        "            # print('-----------------------')\n",
        "        # Final output\n",
        "        for input_var in self.in_vars:\n",
        "          self.derivative[input_var] = self.graph[input_var]['backwards']\n",
        "                    \n",
        "\n",
        "if __name__ == '__main__':\n",
        "  e = Executor(g.graph, in_vars=in_vars)\n",
        "  e.forward()\n",
        "  e.backward()\n",
        "  print(e.output)\n",
        "  print(e.derivative)"
      ],
      "metadata": {
        "colab": {
          "base_uri": "https://localhost:8080/"
        },
        "cellView": "form",
        "id": "l965tc0PZD1y",
        "outputId": "21feeab5-19cc-4bd8-e03d-16649c7348bb"
      },
      "execution_count": null,
      "outputs": [
        {
          "output_type": "stream",
          "name": "stdout",
          "text": [
            "32.0\n",
            "{'x': 24.0, 'y': 8.0}\n"
          ]
        }
      ]
    },
    {
      "cell_type": "code",
      "source": [
        "#@title Test Function for Debugging [do not change]\n",
        "\n",
        "utils.test_backprop(Builder, Executor, math_problem)"
      ],
      "metadata": {
        "colab": {
          "base_uri": "https://localhost:8080/"
        },
        "cellView": "form",
        "id": "lw-g9g_Avox_",
        "outputId": "e25f01c7-161f-48b2-9dc6-f7da00c6276e"
      },
      "execution_count": null,
      "outputs": [
        {
          "output_type": "stream",
          "name": "stdout",
          "text": [
            "\n",
            "0: problem: (x^2 - 1) * (y+2), in_vars: {'x': 3.0, 'y': 2.0}\n",
            "SUCCESS output: 32.0\n",
            "SUCCESS derivative: {'x': 24.0, 'y': 8.0}\n"
          ]
        }
      ]
    },
    {
      "cell_type": "code",
      "source": [
        "#@title Test Function for Grading [do not change]\n",
        "\n",
        "utils.test_backprop(Builder, Executor)"
      ],
      "metadata": {
        "colab": {
          "base_uri": "https://localhost:8080/"
        },
        "cellView": "form",
        "id": "d4qAd9lBtSmX",
        "outputId": "22287f7d-6353-47ca-b934-d07bb7381bc8"
      },
      "execution_count": null,
      "outputs": [
        {
          "output_type": "stream",
          "name": "stdout",
          "text": [
            "\n",
            "0: problem: x/y, in_vars: {'x': 1.0, 'y': 1.0}\n",
            "SUCCESS output: 1.0\n",
            "SUCCESS derivative: {'x': 1.0, 'y': -1.0}\n",
            "\n",
            "1: problem: exp(x) - (y * 2), in_vars: {'x': 2.0, 'y': -2.0}\n",
            "SUCCESS output: 11.39\n",
            "SUCCESS derivative: {'x': 7.39, 'y': -2}\n",
            "\n",
            "2: problem: (x^2 - 1) * (y+2), in_vars: {'x': 3.0, 'y': 2.0}\n",
            "SUCCESS output: 32.0\n",
            "SUCCESS derivative: {'x': 24.0, 'y': 8.0}\n",
            "\n",
            "3: problem: z + sin(x^(2) + (y * exp(z))), in_vars: {'x': 2.0, 'y': -1.0, 'z': 0.0}\n",
            "SUCCESS output: 0.14\n",
            "SUCCESS derivative: {'x': -3.96, 'y': -0.99, 'z': 1.99}\n"
          ]
        }
      ]
    }
  ]
}